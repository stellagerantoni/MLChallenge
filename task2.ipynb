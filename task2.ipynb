{
  "nbformat": 4,
  "nbformat_minor": 0,
  "metadata": {
    "colab": {
      "provenance": [],
      "include_colab_link": true
    },
    "kernelspec": {
      "name": "python3",
      "display_name": "Python 3"
    },
    "language_info": {
      "name": "python"
    }
  },
  "cells": [
    {
      "cell_type": "markdown",
      "metadata": {
        "id": "view-in-github",
        "colab_type": "text"
      },
      "source": [
        "<a href=\"https://colab.research.google.com/github/stellagerantoni/MLChallenge/blob/main/task2.ipynb\" target=\"_parent\"><img src=\"https://colab.research.google.com/assets/colab-badge.svg\" alt=\"Open In Colab\"/></a>"
      ]
    },
    {
      "cell_type": "markdown",
      "source": [
        "This task is about camera properties. We will use the pinhole camera model: light rays pass\n",
        "through as small hole, and land on the imaging plane behind it. You can read more about it here:\n",
        "https://en.wikipedia.org/wiki/Pinhole_camera_model. Our camera is parallel to the xy plane\n",
        "(e.g. not rotated), the focal length is f = 10cm, and the analysis is w = 1080 pixels, h =\n",
        "720 pixels, where w is the width (on the x axis), and h is the height (on the y axis). Each pixel is\n",
        "a square with side length s = 0.1mm. The camera is centered (e.g., it’s center aligns with the z\n",
        "axis).\n",
        "\n",
        "a) Find the positions – pixel coordinates of the following points (X, Y, Z coordinates in m):\n",
        "\n",
        "• P1 = (1,1,5)\n",
        "\n",
        "• P2 = (1,2,3)\n",
        "\n",
        "• P3 = (2.5, −3.1,12.7)\n",
        "\n",
        "Are all points visible from the camera? Why / why not? Write a function that answers this for all\n",
        "points (in Python)."
      ],
      "metadata": {
        "id": "wfIUnRg7b2J-"
      }
    },
    {
      "cell_type": "code",
      "source": [
        "f = 0.1\n",
        "w_pixels = 1080\n",
        "h_pixels = 720\n",
        "s = 0.0001"
      ],
      "metadata": {
        "id": "FC_QhLpkcDg9"
      },
      "execution_count": 1,
      "outputs": []
    },
    {
      "cell_type": "code",
      "source": [
        "P1 = [1,1,5]\n",
        "P2 = [1,2,3]\n",
        "P3 = [2.5, -3.1, 12.7]"
      ],
      "metadata": {
        "id": "uqA69JLydW64"
      },
      "execution_count": 2,
      "outputs": []
    },
    {
      "cell_type": "code",
      "source": [
        "def visibility_check(f,w_pixels,h_pixels,s,P):\n",
        "  w = w_pixels * s\n",
        "  h = h_pixels * s\n",
        "  p_x, p_y, p_z = P[0], P[1], P[2]\n",
        "\n",
        "  #Calculate y1, y2 of the point in the image plane\n",
        "  y1 = -f*p_x/p_z\n",
        "  y2 = -f*p_y/p_z\n",
        "\n",
        "  #check if visible\n",
        "  if -h/2 < y1 < h/2 and -w/2 < y2 < w/2 :\n",
        "    print(f\"The given point ({p_x},{p_y},{p_z}) is visible from the camera.\")\n",
        "  elif -h/2 < y1 < h/2:\n",
        "    print(f'The given point ({p_x},{p_y},{p_z}) is not visible from the camera, because y2={round(y2,3)} falls out of the image plane')\n",
        "  elif  -w/2 < y2 < w/2 :\n",
        "    print(f'The given point ({p_x},{p_y},{p_z}) is not visible from the camera, because y1={round(y1,3)} falls out of the image plane')\n",
        "  else:\n",
        "    print(f'The given point ({p_x},{p_y},{p_z}) is not visible from the camera, because y1={round(y2,3)} and y2={round(y1,3)} fall out of the image plane')"
      ],
      "metadata": {
        "id": "CelNDEUZc0oJ"
      },
      "execution_count": 3,
      "outputs": []
    },
    {
      "cell_type": "code",
      "source": [
        "visibility_check(f,w_pixels,h_pixels,s,P1)\n",
        "visibility_check(f,w_pixels,h_pixels,s,P2)\n",
        "visibility_check(f,w_pixels,h_pixels,s,P3)"
      ],
      "metadata": {
        "colab": {
          "base_uri": "https://localhost:8080/"
        },
        "id": "cuCgWnZ6da6y",
        "outputId": "61a307e6-f10e-4577-f213-f2543658ee2c"
      },
      "execution_count": 4,
      "outputs": [
        {
          "output_type": "stream",
          "name": "stdout",
          "text": [
            "The given point (1,1,5) is visible from the camera.\n",
            "The given point (1,2,3) is not visible from the camera, because y2=-0.067 falls out of the image plane\n",
            "The given point (2.5,-3.1,12.7) is visible from the camera.\n"
          ]
        }
      ]
    },
    {
      "cell_type": "markdown",
      "source": [
        "## b) A sphere with radius R = 0.1m is seen as a circle with radius r = 10 pixels on the camera (centered at the camera center).\n",
        "### What is the distance of the sphere?"
      ],
      "metadata": {
        "id": "vUw5XmzRn6d7"
      }
    },
    {
      "cell_type": "code",
      "source": [
        "def sphere_distance(R,r,s):\n",
        "  x = R\n",
        "  z = -f * x /((-r)*s)\n",
        "  print(f'The distance of the sphere from the camera apenture is {round(z,2)} meters.')"
      ],
      "metadata": {
        "id": "YBzNxLahn-If"
      },
      "execution_count": 22,
      "outputs": []
    },
    {
      "cell_type": "code",
      "source": [
        "R = 0.1\n",
        "r = 10\n",
        "sphere_distance(R,r,s)"
      ],
      "metadata": {
        "id": "yCZr0jipt_MX",
        "outputId": "a50c36ef-5488-46e7-9b0b-ad8e640d4c7c",
        "colab": {
          "base_uri": "https://localhost:8080/"
        }
      },
      "execution_count": 23,
      "outputs": [
        {
          "output_type": "stream",
          "name": "stdout",
          "text": [
            "The distance of the sphere from the camera apenture is 10.0 meters.\n"
          ]
        }
      ]
    }
  ]
}