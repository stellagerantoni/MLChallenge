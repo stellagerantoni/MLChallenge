{
  "nbformat": 4,
  "nbformat_minor": 0,
  "metadata": {
    "colab": {
      "provenance": [],
      "gpuType": "T4",
      "mount_file_id": "https://github.com/stellagerantoni/MLChallenge/blob/main/traffic_lights.ipynb",
      "authorship_tag": "ABX9TyNR9qan4LRnMRopvWh0F8IV",
      "include_colab_link": true
    },
    "kernelspec": {
      "name": "python3",
      "display_name": "Python 3"
    },
    "language_info": {
      "name": "python"
    },
    "accelerator": "GPU"
  },
  "cells": [
    {
      "cell_type": "markdown",
      "metadata": {
        "id": "view-in-github",
        "colab_type": "text"
      },
      "source": [
        "<a href=\"https://colab.research.google.com/github/stellagerantoni/MLChallenge/blob/main/traffic_lights.ipynb\" target=\"_parent\"><img src=\"https://colab.research.google.com/assets/colab-badge.svg\" alt=\"Open In Colab\"/></a>"
      ]
    },
    {
      "cell_type": "code",
      "execution_count": 1,
      "metadata": {
        "id": "6ig-NfxHJfMq"
      },
      "outputs": [],
      "source": [
        "import os\n",
        "import cv2\n",
        "import pandas as pd\n",
        "import matplotlib.pyplot as plt\n",
        "import tensorflow as tf\n",
        "import numpy as np\n",
        "import cv2\n",
        "from PIL import Image\n",
        "from sklearn.metrics import balanced_accuracy_score, confusion_matrix"
      ]
    },
    {
      "cell_type": "code",
      "source": [
        "!ls \"/content/drive/MyDrive/\""
      ],
      "metadata": {
        "id": "dH38bLGoNwCE",
        "outputId": "9914ee21-dcc1-426a-a2fa-6760583d0f0a",
        "colab": {
          "base_uri": "https://localhost:8080/"
        }
      },
      "execution_count": 2,
      "outputs": [
        {
          "output_type": "stream",
          "name": "stdout",
          "text": [
            " 1497636324905991.pdf\n",
            " 20180529193743463.pdf\n",
            "'6 δεκ. 2020.gdoc'\n",
            " Classroom\n",
            "'Colab Notebooks'\n",
            " --CV-3.pdf\n",
            " GTSRB-Training_fixed.zip\n",
            " presentations_2019_20.rar\n",
            " shmeivseis-Piuanothtes_2015.rar\n",
            "'Untitled document.gdoc'\n",
            "'Αριστερη Συσπειρωση Νο1.pdf'\n",
            " ΑΣ-ΑΣΦ.pdf\n",
            "'Βασικές αρχές ΑΡΑΣ.doc'\n",
            "'Βασικές ένοιες του ιστορικού υλισμού - Χαρνεκερ.pdf'\n",
            "'Για τη σύγχρονη νεολαία και τα χαρακτηριστικά της ΑΣ 2014.pdf'\n",
            "'Έγγραφο χωρίς τίτλο.gdoc'\n",
            "'Εισήγηση camping 2013 Φασισμός.doc'\n",
            "'Εισήγηση για το Κράτος.doc'\n",
            "'Εισήγηση για τον εκπαιδευτικό μηχανισμό- Δεκέμβριος 2015.doc'\n",
            "'Εισήγηση ΕΝΙΑΙΟ ΜΕΤΩΠΟ camping ΑΡΑΣ 2014.pdf'\n",
            "'εισηγηση καμπινγκ 2016 teliko (1).doc'\n",
            "'θέσεις αρας για λαε τέλη του 2016.pdf'\n",
            "'Λένιν Για τον Μαρξ και τη διδασκαλία του.pdf'\n",
            "'ΜΑΟ ΑΝΤΙΘΕΣΕΙΣ.doc'\n",
            "'Ο εκπαιδευτικός μηχανισμός τη συγκυρία ΑΣ1.pdf'\n",
            "'Οι Διανοουμενοι.pdf'\n"
          ]
        }
      ]
    },
    {
      "cell_type": "code",
      "source": [
        "!unzip \"/content/drive/MyDrive/GTSRB-Training_fixed\" -d \"/content/\""
      ],
      "metadata": {
        "id": "Lktj0xSIN07b",
        "outputId": "a10fdf78-9b35-4ffe-986b-af66b953d92d",
        "colab": {
          "base_uri": "https://localhost:8080/"
        }
      },
      "execution_count": null,
      "outputs": [
        {
          "output_type": "stream",
          "name": "stdout",
          "text": [
            "Archive:  /content/drive/MyDrive/GTSRB-Training_fixed.zip\n",
            "replace /content/GTSRB/Training/00000/00000_00000.ppm? [y]es, [n]o, [A]ll, [N]one, [r]ename: "
          ]
        }
      ]
    },
    {
      "cell_type": "code",
      "source": [
        "import random as python_random\n",
        "def reset_seeds(seed_value=39):\n",
        "    # ref: https://keras.io/getting_started/faq/#how-can-i-obtain-reproducible-results-using-keras-during-development\n",
        "    os.environ[\"PYTHONHASHSEED\"] = str(seed_value)\n",
        "    # necessary for starting Numpy generated random numbers in a well-defined initial state.\n",
        "    np.random.seed(seed_value)\n",
        "    # necessary for starting core Python generated random numbers in a well-defined state.\n",
        "    python_random.seed(seed_value)\n",
        "    # set_seed() will make random number generation\n",
        "    tf.random.set_seed(seed_value)\n",
        "\n",
        "RANDOM_STATE = 39"
      ],
      "metadata": {
        "id": "lY79OnYyL4hB"
      },
      "execution_count": null,
      "outputs": []
    },
    {
      "cell_type": "code",
      "source": [
        "#import zipfile\n",
        "#import csv\n",
        "\n",
        "train_images = []\n",
        "train_labels = []\n",
        "validation_images = []\n",
        "validation_labels = []\n",
        "test_images = []\n",
        "test_labels = []\n",
        "annotations=[]"
      ],
      "metadata": {
        "id": "pUQgpiRnOk-G"
      },
      "execution_count": null,
      "outputs": []
    },
    {
      "cell_type": "code",
      "source": [
        "root_folder = '/content/GTSRB/Training/'\n",
        "dir_list_classes = sorted(os.listdir(root_folder))\n",
        "for path in dir_list_classes[0:43]:\n",
        "  dir_list_images = sorted(os.listdir(os.path.join(root_folder,path)))\n",
        "  annotation = pd.read_csv(os.path.join(root_folder,path,dir_list_images[-1]),delimiter = ';')\n",
        "  img_nb = 0\n",
        "  for file in dir_list_images[:150]:\n",
        "    img_path = os.path.join(root_folder,path)\n",
        "    img = cv2.imread(os.path.join(img_path, file))\n",
        "\n",
        "    x1 = annotation.loc[img_nb,'Roi.X1']\n",
        "    y1 = annotation.loc[img_nb,'Roi.Y1']\n",
        "    x2 = annotation.loc[img_nb,'Roi.X2']\n",
        "    y2 = annotation.loc[img_nb,'Roi.Y2']\n",
        "\n",
        "    cropped_img = img[y1:y2, x1:x2]\n",
        "\n",
        "    resized_img = cv2.resize(cropped_img, (100, 100))\n",
        "    train_images.append(resized_img)\n",
        "\n",
        "    class_id = annotation.loc[img_nb,'ClassId']\n",
        "    train_labels.append(class_id)\n",
        "    img_nb +=1"
      ],
      "metadata": {
        "id": "xs8QMWZlW1E9"
      },
      "execution_count": null,
      "outputs": []
    },
    {
      "cell_type": "code",
      "source": [
        "root_folder_test = '/content/drive/MyDrive/Classroom/Final_Test/Images'\n",
        "root_folder_test_dir = sorted(os.listdir(root_folder_test))\n",
        "annotation_test = pd.read_csv('/content/drive/MyDrive/Colab Notebooks/GT-final_test.csv',delimiter = ';')\n",
        "img_idx = 0\n",
        "for path in root_folder_test_dir:\n",
        "    img_path = os.path.join(root_folder_test,path)\n",
        "    img = cv2.imread(img_path)\n",
        "\n",
        "    x1 = annotation.loc[img_idx,'Roi.X1']\n",
        "    y1 = annotation.loc[img_idx,'Roi.Y1']\n",
        "    x2 = annotation.loc[img_idx,'Roi.X2']\n",
        "    y2 = annotation.loc[img_idx,'Roi.Y2']\n",
        "\n",
        "    cropped_img = img[y1:y2, x1:x2]\n",
        "    resized_img = cv2.resize(cropped_img, (100, 100))\n",
        "\n",
        "    class_id_test = annotation.loc[img_idx,'ClassId']\n",
        "    test_labels.append(class_id_test)\n",
        "\n",
        "    test_images.append(resized_img)\n",
        "    img_idx +=1"
      ],
      "metadata": {
        "id": "9LzO4r8g9_JH"
      },
      "execution_count": null,
      "outputs": []
    },
    {
      "cell_type": "code",
      "source": [],
      "metadata": {
        "id": "AwcP0WdwLPKe"
      },
      "execution_count": null,
      "outputs": []
    },
    {
      "cell_type": "code",
      "source": [
        "root_folder_test = '/content/drive/MyDrive/Classroom/Final_Test/Images'\n",
        "root_folder_test_dir = sorted(os.listdir(root_folder_test))\n",
        "annotation_test = pd.read_csv('/content/drive/MyDrive/Colab Notebooks/GT-final_test.csv',delimiter = ';')\n",
        "img_idx = 0\n"
      ],
      "metadata": {
        "id": "vTRhLfJUIX2u"
      },
      "execution_count": null,
      "outputs": []
    },
    {
      "cell_type": "code",
      "source": [
        "for image in root_folder_test_dir:\n",
        "    img_path = os.path.join(image,path)\n",
        "    img = cv2.imread(os.path.join(img_path, file))\n"
      ],
      "metadata": {
        "id": "UxlLFEBWIYBe"
      },
      "execution_count": null,
      "outputs": []
    },
    {
      "cell_type": "code",
      "source": [],
      "metadata": {
        "id": "233L_iANLMxr"
      },
      "execution_count": null,
      "outputs": []
    },
    {
      "cell_type": "code",
      "source": [],
      "metadata": {
        "id": "DKGKk0CqIYEE"
      },
      "execution_count": null,
      "outputs": []
    },
    {
      "cell_type": "code",
      "source": [],
      "metadata": {
        "id": "vIOA7b0cIYGt"
      },
      "execution_count": null,
      "outputs": []
    },
    {
      "cell_type": "code",
      "source": [],
      "metadata": {
        "id": "cNV2CpRCIYJ6"
      },
      "execution_count": null,
      "outputs": []
    },
    {
      "cell_type": "code",
      "source": [],
      "metadata": {
        "id": "Rp3wY7ULIYNO"
      },
      "execution_count": null,
      "outputs": []
    },
    {
      "cell_type": "code",
      "source": [
        "train_images = np.array(train_images)\n",
        "train_labels = np.array(train_labels)\n",
        "test_images = np.array(test_images)\n",
        "test_labels = np.array(test_labels)\n",
        "validation_images = np.array(validation_images)\n",
        "validation_labels = np.array(validation_labels)\n",
        "train_images = train_images/255.0\n",
        "test_images = test_images/255.0\n",
        "validation_images = validation_images/255.0"
      ],
      "metadata": {
        "id": "jrhNBel0oEJO"
      },
      "execution_count": null,
      "outputs": []
    },
    {
      "cell_type": "code",
      "source": [
        "plt.figure(figsize=(60, 160))\n",
        "count = 1\n",
        "for j in range(train_images.shape[0]):\n",
        "  if j %150 == 0:\n",
        "    for i, image in enumerate(train_images[j:j+1]):\n",
        "        plt.subplot(43, 1, count)\n",
        "        plt.imshow(train_images[j])\n",
        "        plt.axis('off')\n",
        "        count += 1\n",
        "\n",
        "plt.show()"
      ],
      "metadata": {
        "id": "UgKWdBErUum3"
      },
      "execution_count": null,
      "outputs": []
    },
    {
      "cell_type": "code",
      "source": [
        "from sklearn.utils import shuffle\n",
        "train_images, train_labels = shuffle(train_images, train_labels, random_state=RANDOM_STATE)\n",
        "\n",
        "from sklearn.model_selection import train_test_split\n",
        "X_train, X_val, y_train, y_val = train_test_split(train_images, train_labels, test_size=0.2, random_state=42, stratify=train_labels)\n"
      ],
      "metadata": {
        "id": "Fjo_L79zqUTt"
      },
      "execution_count": null,
      "outputs": []
    },
    {
      "cell_type": "code",
      "source": [
        "from tensorflow.keras import Sequential\n",
        "from tensorflow.keras.layers import Conv2D, MaxPooling2D, Flatten, Dense\n",
        "from tensorflow import keras\n",
        "\n",
        "model = tf.keras.Sequential([\n",
        "    (Conv2D(32,kernel_size=(3,3), padding = 'same', activation = 'relu', input_shape = (100,100,3))),\n",
        "    (MaxPooling2D(pool_size = (2,2))),\n",
        "\n",
        "    (Conv2D(64,kernel_size=(3,3), padding = 'same', activation = 'relu')),\n",
        "    (MaxPooling2D(pool_size = (2,2))),\n",
        "\n",
        "    (Conv2D(128, kernel_size = (3,3), padding= 'same', activation = 'relu')),\n",
        "    (MaxPooling2D(pool_size = (2,2))),\n",
        "\n",
        "    (Flatten()),\n",
        "    (Dense(128, activation= 'relu')),\n",
        "    (Dense(43, activation = 'softmax'))\n",
        "])"
      ],
      "metadata": {
        "id": "mluQTnPIFsPm"
      },
      "execution_count": null,
      "outputs": []
    },
    {
      "cell_type": "code",
      "source": [
        "from keras.utils import to_categorical\n",
        "\n",
        "train_labels_categorical = to_categorical(y_train, num_classes = 43)\n",
        "validation_labels_categorical = to_categorical(y_val, num_classes = 43)\n",
        "test_labels_categorical = to_categorical(test_labels, num_classes = 43)"
      ],
      "metadata": {
        "id": "P4eQRViv0ql2"
      },
      "execution_count": null,
      "outputs": []
    },
    {
      "cell_type": "code",
      "source": [
        "optimizer = keras.optimizers.Adam(learning_rate=0.0001)\n",
        "model.compile(optimizer = optimizer, loss = 'categorical_crossentropy', metrics=['accuracy'])\n",
        "early_stopping_accuracy = keras.callbacks.EarlyStopping(\n",
        "    monitor=\"val_accuracy\", patience=15, restore_best_weights=True\n",
        ")\n",
        "reset_seeds()\n",
        "classifier_history = model.fit(\n",
        "    train_images,\n",
        "    train_labels_categorical,\n",
        "    epochs=150,\n",
        "    batch_size=32,\n",
        "    shuffle=True,\n",
        "    verbose=True,\n",
        "    validation_data=(validation_images, validation_labels_categorical),\n",
        "    callbacks=[early_stopping_accuracy],\n",
        ")"
      ],
      "metadata": {
        "id": "EOiZ9refz7w6"
      },
      "execution_count": null,
      "outputs": []
    },
    {
      "cell_type": "markdown",
      "source": [
        "##No need to plot training and test curves yet. The diffrence between the accuracy and the val_accuracy makes it clear that the model is overfitting."
      ],
      "metadata": {
        "id": "Fezppm9pHom5"
      }
    },
    {
      "cell_type": "code",
      "source": [
        "# Simpler model\n",
        "model2 = tf.keras.Sequential([\n",
        "    (Conv2D(16,kernel_size=(3,3), padding = 'same', activation = 'relu', input_shape = (100,100,3))),\n",
        "    (MaxPooling2D(pool_size = (2,2))),\n",
        "\n",
        "    (Conv2D(32,kernel_size=(3,3), padding = 'same', activation = 'relu')),\n",
        "    (MaxPooling2D(pool_size = (2,2))),\n",
        "\n",
        "    (Conv2D(64, kernel_size = (3,3), padding= 'same', activation = 'relu')),\n",
        "    (MaxPooling2D(pool_size = (2,2))),\n",
        "\n",
        "    (Flatten()),\n",
        "    (Dense(64, activation= 'relu')),\n",
        "    (Dense(43, activation = 'softmax'))\n",
        "])"
      ],
      "metadata": {
        "id": "Sj9d3dZVIHzg"
      },
      "execution_count": null,
      "outputs": []
    },
    {
      "cell_type": "code",
      "source": [
        "optimizer = keras.optimizers.Adam(learning_rate=0.0001)\n",
        "model2.compile(optimizer = optimizer, loss = 'categorical_crossentropy', metrics=['accuracy'])\n",
        "early_stopping_accuracy = keras.callbacks.EarlyStopping(\n",
        "    monitor=\"val_accuracy\", patience=15, restore_best_weights=True\n",
        ")\n",
        "reset_seeds()\n",
        "classifier_history2 = model2.fit(\n",
        "    train_images,\n",
        "    train_labels_categorical,\n",
        "    epochs=150,\n",
        "    batch_size=32,\n",
        "    shuffle=True,\n",
        "    verbose=True,\n",
        "    validation_data=(validation_images, validation_labels_categorical),\n",
        "    callbacks=[early_stopping_accuracy],\n",
        ")"
      ],
      "metadata": {
        "id": "Hh8ZHtFxJE6z"
      },
      "execution_count": null,
      "outputs": []
    },
    {
      "cell_type": "markdown",
      "source": [
        "##With Dropout"
      ],
      "metadata": {
        "id": "xfqPZVuOgQqT"
      }
    },
    {
      "cell_type": "code",
      "source": [
        "from tensorflow.keras.layers import Dropout\n",
        "model3 = tf.keras.Sequential([\n",
        "    (Conv2D(32,kernel_size=(3,3), activation = 'relu', input_shape = (100,100,3))),\n",
        "    (MaxPooling2D(pool_size = (2,2))),\n",
        "\n",
        "    (Conv2D(64,kernel_size=(3,3), activation = 'relu')),\n",
        "    (MaxPooling2D(pool_size = (2,2))),\n",
        "\n",
        "    (Conv2D(128, kernel_size = (3,3), activation = 'relu')),\n",
        "    (MaxPooling2D(pool_size = (2,2))),\n",
        "\n",
        "    (Flatten()),\n",
        "    (Dense(128, activation= 'relu')),\n",
        "    (Dropout(0.5)),\n",
        "    (Dense(43, activation = 'softmax'))\n",
        "])"
      ],
      "metadata": {
        "id": "vvgTgVrnd_uT"
      },
      "execution_count": null,
      "outputs": []
    },
    {
      "cell_type": "code",
      "source": [
        "optimizer = keras.optimizers.Adam(learning_rate=0.0001)\n",
        "model3.compile(optimizer = optimizer, loss = 'categorical_crossentropy', metrics=['accuracy'])\n",
        "early_stopping_accuracy = keras.callbacks.EarlyStopping(\n",
        "    monitor=\"val_accuracy\", patience=15, restore_best_weights=True\n",
        ")\n",
        "reset_seeds()\n",
        "classifier_history3 = model3.fit(\n",
        "    X_train,\n",
        "    train_labels_categorical,\n",
        "    epochs=150,\n",
        "    batch_size=128,\n",
        "    shuffle=True,\n",
        "    verbose=True,\n",
        "    validation_data=(X_val, validation_labels_categorical),\n",
        "    callbacks=[early_stopping_accuracy],\n",
        ")"
      ],
      "metadata": {
        "id": "JP321NnIfroY"
      },
      "execution_count": null,
      "outputs": []
    },
    {
      "cell_type": "code",
      "source": [
        "y_pred = model3.predict(X_val)\n",
        "y_pred_classes = np.argmax(y_pred, axis=1)\n",
        "acc = balanced_accuracy_score(y_true=y_val, y_pred=y_pred_classes)\n",
        "print(f\"Classifier trained, with validation accuracy {acc}.\")"
      ],
      "metadata": {
        "id": "aS3gP5jutban"
      },
      "execution_count": null,
      "outputs": []
    },
    {
      "cell_type": "code",
      "source": [
        "test_loss, test_accuracy = model3.evaluate(X_val, validation_labels_categorical)\n",
        "print(f'Test accuracy: {test_accuracy}')\n",
        "\n",
        "# Plot training and validation curves\n",
        "plt.figure(figsize=(12, 4))\n",
        "plt.subplot(1, 2, 1)\n",
        "plt.plot(classifier_history3.history['accuracy'], label='Training Accuracy')\n",
        "plt.plot(classifier_history3.history['val_accuracy'], label='Validation Accuracy')\n",
        "plt.xlabel('Epochs')\n",
        "plt.ylabel('Accuracy')\n",
        "plt.legend()\n",
        "plt.grid(True)\n",
        "\n",
        "plt.subplot(1, 2, 2)\n",
        "plt.plot(classifier_history3.history['loss'], label='Training Loss')\n",
        "plt.plot(classifier_history3.history['val_loss'], label='Validation Loss')\n",
        "plt.xlabel('Epochs')\n",
        "plt.ylabel('Loss')\n",
        "plt.legend()\n",
        "plt.grid(True)\n",
        "\n",
        "plt.show()"
      ],
      "metadata": {
        "id": "zg6wxD9DI5u7"
      },
      "execution_count": null,
      "outputs": []
    },
    {
      "cell_type": "code",
      "source": [],
      "metadata": {
        "id": "sL-fPlm5JXch"
      },
      "execution_count": null,
      "outputs": []
    }
  ]
}